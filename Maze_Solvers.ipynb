{
  "nbformat": 4,
  "nbformat_minor": 0,
  "metadata": {
    "colab": {
      "provenance": []
    },
    "kernelspec": {
      "name": "python3",
      "display_name": "Python 3"
    },
    "language_info": {
      "name": "python"
    }
  },
  "cells": [
    {
      "cell_type": "code",
      "source": [
        "import matplotlib.pyplot as plt\n",
        "from collections import deque\n",
        "import heapq"
      ],
      "metadata": {
        "id": "NVgEYEX_4lRF"
      },
      "execution_count": 1,
      "outputs": []
    },
    {
      "cell_type": "code",
      "source": [
        "# Define the maze as a 2D list\n",
        "maze = [\n",
        "    [0, 1, 0, 0, 0],\n",
        "    [0, 1, 0, 1, 0],\n",
        "    [0, 0, 0, 1, 0],\n",
        "    [0, 1, 1, 1, 0],\n",
        "    [0, 0, 0, 0, 0]\n",
        "]\n",
        "\n",
        "# Define the start and goal positions\n",
        "start = (0, 0)\n",
        "goal = (4, 4)"
      ],
      "metadata": {
        "id": "Ch9QDHxz4moA"
      },
      "execution_count": 2,
      "outputs": []
    },
    {
      "cell_type": "code",
      "source": [
        "def get_neighbors(maze, position):\n",
        "    #Return the neighbors of a position in the maze.\n",
        "    neighbors = []\n",
        "    row, col = position\n",
        "    if row > 0 and maze[row-1][col] == 0:\n",
        "        neighbors.append((row-1, col))\n",
        "    if row < len(maze) - 1 and maze[row+1][col] == 0:\n",
        "        neighbors.append((row+1, col))\n",
        "    if col > 0 and maze[row][col-1] == 0:\n",
        "        neighbors.append((row, col-1))\n",
        "    if col < len(maze[0]) - 1 and maze[row][col+1] == 0:\n",
        "        neighbors.append((row, col+1))\n",
        "    return neighbors\n",
        "\n",
        "def plot_maze(maze, path=None, title=\"Maze\"):\n",
        "    #Visualize the maze and the path found.\n",
        "    plt.imshow(maze, cmap='binary')\n",
        "    if path:\n",
        "        for position in path:\n",
        "            plt.plot(position[1], position[0], 'ro')  # 'ro' for red circles\n",
        "    plt.title(title)\n",
        "    plt.show()"
      ],
      "metadata": {
        "id": "W7OpRbG44tB6"
      },
      "execution_count": 18,
      "outputs": []
    },
    {
      "cell_type": "code",
      "source": [
        "def dfs(maze, start, goal):\n",
        "    #Perform Depth-First Search (DFS) to find a path in the maze.\n",
        "    stack = [(start, [start])]\n",
        "    visited = set()\n",
        "\n",
        "    while stack:\n",
        "        (current, path) = stack.pop()\n",
        "        if current in visited:\n",
        "            continue\n",
        "        visited.add(current)\n",
        "        if current == goal:\n",
        "            return path\n",
        "        for neighbor in get_neighbors(maze, current):\n",
        "            stack.append((neighbor, path + [neighbor]))\n",
        "    return None"
      ],
      "metadata": {
        "id": "tln9O_P_4z4N"
      },
      "execution_count": 13,
      "outputs": []
    },
    {
      "cell_type": "code",
      "source": [
        "def bfs(maze, start, goal):\n",
        "    #Perform Breadth-First Search (BFS) to find a path in the maze.\n",
        "    queue = deque([(start, [start])])\n",
        "    visited = set()\n",
        "\n",
        "    while queue:\n",
        "        (current, path) = queue.popleft()\n",
        "        if current in visited:\n",
        "            continue\n",
        "        visited.add(current)\n",
        "        if current == goal:\n",
        "            return path\n",
        "        for neighbor in get_neighbors(maze, current):\n",
        "            queue.append((neighbor, path + [neighbor]))\n",
        "    return None"
      ],
      "metadata": {
        "id": "4ZljLHob44k7"
      },
      "execution_count": 14,
      "outputs": []
    },
    {
      "cell_type": "code",
      "source": [
        "def heuristic(a, b):\n",
        "    #Heuristic function for A* (Manhattan distance).\n",
        "    return abs(a[0] - b[0]) + abs(a[1] - b[1])\n",
        "\n",
        "def a_star(maze, start, goal):\n",
        "    #Perform A* Search to find a path in the maze.\n",
        "    open_list = []\n",
        "    heapq.heappush(open_list, (0, start))\n",
        "    came_from = {}\n",
        "    g_score = {start: 0}\n",
        "    f_score = {start: heuristic(start, goal)}\n",
        "\n",
        "    while open_list:\n",
        "        current = heapq.heappop(open_list)[1]\n",
        "        if current == goal:\n",
        "            path = []\n",
        "            while current in came_from:\n",
        "                path.append(current)\n",
        "                current = came_from[current]\n",
        "            path.append(start)\n",
        "            return path[::-1]\n",
        "\n",
        "        for neighbor in get_neighbors(maze, current):\n",
        "            tentative_g_score = g_score[current] + 1\n",
        "            if tentative_g_score < g_score.get(neighbor, float('inf')):\n",
        "                came_from[neighbor] = current\n",
        "                g_score[neighbor] = tentative_g_score\n",
        "                f_score[neighbor] = tentative_g_score + heuristic(neighbor, goal)\n",
        "                heapq.heappush(open_list, (f_score[neighbor], neighbor))\n",
        "    return None"
      ],
      "metadata": {
        "id": "RRx8LrhF47bp"
      },
      "execution_count": 15,
      "outputs": []
    },
    {
      "cell_type": "code",
      "source": [
        "# Find paths using different search algorithms\n",
        "dfs_path = dfs(maze, start, goal)\n",
        "bfs_path = bfs(maze, start, goal)\n",
        "a_star_path = a_star(maze, start, goal)\n",
        "\n",
        "# Print the results\n",
        "if dfs_path:\n",
        "    print(\"Path found using DFS:\", dfs_path)\n",
        "else:\n",
        "    print(\"No path found using DFS\")\n",
        "\n",
        "if bfs_path:\n",
        "    print(\"Path found using BFS:\", bfs_path)\n",
        "else:\n",
        "    print(\"No path found using BFS\")\n",
        "\n",
        "if a_star_path:\n",
        "    print(\"Path found using A*:\", a_star_path)\n",
        "else:\n",
        "    print(\"No path found using A*\")\n",
        "\n",
        "# Visualize the results\n",
        "plot_maze(maze, dfs_path, title=\"DFS Path\")\n",
        "plot_maze(maze, bfs_path, title=\"BFS Path\")\n",
        "plot_maze(maze, a_star_path, title=\"A* Path\")"
      ],
      "metadata": {
        "colab": {
          "base_uri": "https://localhost:8080/",
          "height": 1000
        },
        "id": "zqNBEcGS5B_b",
        "outputId": "e9d769f3-dc6b-400e-820d-10c488173bc9"
      },
      "execution_count": 16,
      "outputs": [
        {
          "output_type": "stream",
          "name": "stdout",
          "text": [
            "Path found using DFS: [(0, 0), (1, 0), (2, 0), (2, 1), (2, 2), (1, 2), (0, 2), (0, 3), (0, 4), (1, 4), (2, 4), (3, 4), (4, 4)]\n",
            "Path found using BFS: [(0, 0), (1, 0), (2, 0), (3, 0), (4, 0), (4, 1), (4, 2), (4, 3), (4, 4)]\n",
            "Path found using A*: [(0, 0), (1, 0), (2, 0), (3, 0), (4, 0), (4, 1), (4, 2), (4, 3), (4, 4)]\n"
          ]
        },
        {
          "output_type": "display_data",
          "data": {
            "text/plain": [
              "<Figure size 640x480 with 1 Axes>"
            ],
            "image/png": "[encoded data removed]"
          },
          "metadata": {}
        },
        {
          "output_type": "display_data",
          "data": {
            "text/plain": [
              "<Figure size 640x480 with 1 Axes>"
            ],
            "image/png": "[encoded data removed]"
          },
          "metadata": {}
        },
        {
          "output_type": "display_data",
          "data": {
            "text/plain": [
              "<Figure size 640x480 with 1 Axes>"
            ],
            "image/png": "[encoded data removed]"
          },
          "metadata": {}
        }
      ]
    }
  ]
}